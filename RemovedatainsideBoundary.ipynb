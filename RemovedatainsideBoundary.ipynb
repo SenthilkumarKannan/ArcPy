{
 "cells": [
  {
   "cell_type": "code",
   "execution_count": null,
   "metadata": {},
   "outputs": [],
   "source": [
    "import arcpy\n",
    "import os\n",
    "\n",
    "# Set the workspace\n",
    "arcpy.env.workspace = r\"C:\\Users\\skannan\\Desktop\\Fulldata.gdb\"\n",
    "\n",
    "# Define the polygon feature class that will be used for erasing\n",
    "erase_feature = r\"C:\\Users\\skannan\\Desktop\\SHAPE\\Boundary.shp\"\n",
    "\n",
    "# Output folder for erased layers\n",
    "output_folder = r\"C:\\Users\\skannan\\Desktop\\output\"\n",
    "\n",
    "# Ensure output folder exists\n",
    "if not os.path.exists(output_folder):\n",
    "    os.makedirs(output_folder)\n",
    "\n",
    "# Get the current map document\n",
    "mxd = arcpy.mapping.MapDocument(\"CURRENT\")\n",
    "\n",
    "# Loop through each layer in the Table of Contents\n",
    "for layer in arcpy.mapping.ListLayers(mxd):\n",
    "    # Check if the layer is a feature layer\n",
    "    if layer.isFeatureLayer:\n",
    "        layer_name = layer.name\n",
    "        layer_path = layer.dataSource\n",
    "        output_layer = os.path.join(output_folder, \"erased_\" + layer_name + \".shp\")\n",
    "        \n",
    "        try:\n",
    "            # Perform the erasing\n",
    "            arcpy.Erase_analysis(layer_path, erase_feature, output_layer)\n",
    "            print(\"Successfully erased features in {} using {}, output saved to {}\".format(layer_name, erase_feature, output_layer))\n",
    "        except Exception as e:\n",
    "            print(\"Error erasing {}: {}\".format(layer_name, e))\n",
    "\n",
    "print(\"Erasing process completed.\")"
   ]
  }
 ],
 "metadata": {
  "kernelspec": {
   "display_name": "Python 3",
   "language": "python",
   "name": "python3"
  },
  "language_info": {
   "codemirror_mode": {
    "name": "ipython",
    "version": 3
   },
   "file_extension": ".py",
   "mimetype": "text/x-python",
   "name": "python",
   "nbconvert_exporter": "python",
   "pygments_lexer": "ipython3",
   "version": "3.7.9"
  }
 },
 "nbformat": 4,
 "nbformat_minor": 4
}
