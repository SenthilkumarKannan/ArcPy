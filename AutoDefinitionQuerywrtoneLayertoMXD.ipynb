{
 "cells": [
  {
   "cell_type": "code",
   "execution_count": null,
   "metadata": {},
   "outputs": [],
   "source": [
    "import arcpy\n",
    "\n",
    "# Define the map document and the layer from which to copy the definition query\n",
    "mxd = arcpy.mapping.MapDocument(\"CURRENT\")\n",
    "source_layer_name = \"Well\"  # Replace with your source layer name\n",
    "\n",
    "# Get the source layer\n",
    "source_layer = arcpy.mapping.ListLayers(mxd, source_layer_name)[0]\n",
    "\n",
    "# Get the definition query from the source layer\n",
    "definition_query = source_layer.definitionQuery\n",
    "\n",
    "# Loop through all layers in the map document\n",
    "for layer in arcpy.mapping.ListLayers(mxd):\n",
    "    if layer.isFeatureLayer and layer.name != source_layer_name:  # Apply only to feature layers, skip the source layer\n",
    "        # Apply the definition query to the current layer\n",
    "        layer.definitionQuery = definition_query\n",
    "        print(\"Applied definition query to: {}\".format(layer.name))\n",
    "\n",
    "# Save the changes\n",
    "mxd.save()\n",
    "\n",
    "print(\"Definition query applied to all layers.\")\n"
   ]
  },
  {
   "cell_type": "code",
   "execution_count": null,
   "metadata": {},
   "outputs": [],
   "source": [
    "# the above code is throwing the drawing error since some feature class is not good to go with this query so the below is With the exception\n",
    "import arcpy\n",
    "\n",
    "# Define the map document and the layer from which to copy the definition query\n",
    "mxd = arcpy.mapping.MapDocument(\"CURRENT\")\n",
    "source_layer_name = \"Well\"  # Replace with your source layer name\n",
    "\n",
    "# Get the source layer\n",
    "source_layer = arcpy.mapping.ListLayers(mxd, source_layer_name)[0]\n",
    "\n",
    "# Get the definition query from the source layer\n",
    "definition_query = source_layer.definitionQuery\n",
    "\n",
    "# Loop through all layers in the map document\n",
    "for layer in arcpy.mapping.ListLayers(mxd):\n",
    "    if layer.isFeatureLayer and layer.name != source_layer_name:  # Apply only to feature layers, skip the source layer\n",
    "        try:\n",
    "            # Attempt to apply the definition query\n",
    "            layer.definitionQuery = definition_query\n",
    "            print(\"Applied definition query to: {}\".format(layer.name))\n",
    "        except Exception as e:\n",
    "            # Catch any errors and skip the problematic layer\n",
    "            print(\"Skipped layer {} due to an error: {}\".format(layer.name, str(e)))\n",
    "\n",
    "# Save the changes\n",
    "mxd.save()\n",
    "print(\"Definition query applied to applicable layers.\")"
   ]
  }
 ],
 "metadata": {
  "kernelspec": {
   "display_name": "Python 3",
   "language": "python",
   "name": "python3"
  },
  "language_info": {
   "codemirror_mode": {
    "name": "ipython",
    "version": 3
   },
   "file_extension": ".py",
   "mimetype": "text/x-python",
   "name": "python",
   "nbconvert_exporter": "python",
   "pygments_lexer": "ipython3",
   "version": "3.7.9"
  }
 },
 "nbformat": 4,
 "nbformat_minor": 4
}
