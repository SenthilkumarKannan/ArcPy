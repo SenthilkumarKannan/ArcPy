{
 "cells": [
  {
   "cell_type": "code",
   "execution_count": 6,
   "metadata": {},
   "outputs": [],
   "source": [
    "#Import the ArcPy library.\n",
    "import arcpy"
   ]
  },
  {
   "cell_type": "code",
   "execution_count": 7,
   "metadata": {},
   "outputs": [],
   "source": [
    "#Set the desired feature, the field to base the order, and the field to populate the sequential numbers.\n",
    "sortFeat  = r'C:\\Users\\skannan\\Data.gdb\\ID'\n",
    "sortField = 'Y'\n",
    "idField   = 'BufferID'"
   ]
  },
  {
   "cell_type": "code",
   "execution_count": 8,
   "metadata": {},
   "outputs": [],
   "source": [
    "#Define a counter parameter.\n",
    "rec = 0"
   ]
  },
  {
   "cell_type": "code",
   "execution_count": 9,
   "metadata": {},
   "outputs": [],
   "source": [
    "#Start the autoIncrement() function.\n",
    "def autoIncrement():\n",
    "    global rec\n",
    "    pStart    = 1\n",
    "    pInterval = 1\n",
    "    if (rec == 0):\n",
    "        rec = pStart\n",
    "    else:\n",
    "        rec += pInterval\n",
    "    return rec"
   ]
  },
  {
   "cell_type": "code",
   "execution_count": 10,
   "metadata": {},
   "outputs": [],
   "source": [
    "#Populate the field with the sequential numbers, and delete any extra rows.\n",
    "rows = arcpy.UpdateCursor(sortFeat, \"\", \"\", \"\", sortField + \" A\")\n",
    "\n",
    "for row in rows:\n",
    "    row.setValue(idField, autoIncrement())\n",
    "    rows.updateRow(row)\n",
    "\n",
    "del row, rows"
   ]
  },
  {
   "cell_type": "code",
   "execution_count": null,
   "metadata": {},
   "outputs": [],
   "source": []
  },
  {
   "cell_type": "code",
   "execution_count": null,
   "metadata": {},
   "outputs": [],
   "source": []
  }
 ],
 "metadata": {
  "kernelspec": {
   "display_name": "Python 3",
   "language": "python",
   "name": "python3"
  },
  "language_info": {
   "codemirror_mode": {
    "name": "ipython",
    "version": 3
   },
   "file_extension": ".py",
   "mimetype": "text/x-python",
   "name": "python",
   "nbconvert_exporter": "python",
   "pygments_lexer": "ipython3",
   "version": "3.7.9"
  }
 },
 "nbformat": 4,
 "nbformat_minor": 4
}
