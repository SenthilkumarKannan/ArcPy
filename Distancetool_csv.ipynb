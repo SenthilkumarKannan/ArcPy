{
 "cells": [
  {
   "cell_type": "code",
   "execution_count": 6,
   "metadata": {},
   "outputs": [
    {
     "name": "stdout",
     "output_type": "stream",
     "text": [
      "     PointID           X            Y  Distance to Next\n",
      "0          1  742504.064  3229957.918               NaN\n",
      "1          2  742477.782  3229930.340         38.095795\n",
      "2          3  742428.560  3229878.720         71.326220\n",
      "3          4  742410.673  3229858.655         26.880271\n",
      "4          5  742408.233  3229848.296         10.642485\n",
      "..       ...         ...          ...               ...\n",
      "237      238  750940.862  3212674.465         18.799200\n",
      "238      239  750949.572  3212662.354         14.917789\n",
      "239      240  750957.358  3212651.016         13.753983\n",
      "240      241  750962.367  3212644.258          8.411935\n",
      "241      242  751176.396  3212689.123        218.680774\n",
      "\n",
      "[242 rows x 4 columns]\n",
      "Results saved to 'RHM-07_GC28_distance.csv'\n"
     ]
    }
   ],
   "source": [
    "import pandas as pd\n",
    "import numpy as np\n",
    "\n",
    "# Load the CSV file\n",
    "df = pd.read_csv('RHM-07_GC28.csv')\n",
    "\n",
    "# Calculate the distance between each point in sequence\n",
    "def calculate_distance(x1, y1, x2, y2):\n",
    "    return np.sqrt((x2 - x1)**2 + (y2 - y1)**2)\n",
    "\n",
    "distances = []\n",
    "for i in range(len(df) - 1):\n",
    "    # Use the column names to extract X and Y coordinates\n",
    "    x1, y1 = df.iloc[i][['X', 'Y']]\n",
    "    x2, y2 = df.iloc[i + 1][['X', 'Y']]\n",
    "    distance = calculate_distance(x1, y1, x2, y2)\n",
    "    distances.append(distance)\n",
    "\n",
    "# Add the distances to the DataFrame\n",
    "df['Distance to Next'] = [None] + distances\n",
    "\n",
    "# Print the DataFrame with distances\n",
    "print(df)\n",
    "\n",
    "# Save the updated DataFrame to a new CSV file\n",
    "df.to_csv('RHM-07_GC28_distance.csv', index=False)\n",
    "\n",
    "# Print a confirmation message\n",
    "print(\"Results saved to 'RHM-07_GC28_distance.csv'\")\n"
   ]
  }
 ],
 "metadata": {
  "kernelspec": {
   "display_name": "Python 3",
   "language": "python",
   "name": "python3"
  },
  "language_info": {
   "codemirror_mode": {
    "name": "ipython",
    "version": 3
   },
   "file_extension": ".py",
   "mimetype": "text/x-python",
   "name": "python",
   "nbconvert_exporter": "python",
   "pygments_lexer": "ipython3",
   "version": "3.7.9"
  }
 },
 "nbformat": 4,
 "nbformat_minor": 4
}
