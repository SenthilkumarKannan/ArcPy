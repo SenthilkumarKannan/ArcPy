{
 "cells": [
  {
   "cell_type": "code",
   "execution_count": null,
   "metadata": {},
   "outputs": [],
   "source": [
    "import arcpy\n",
    "\n",
    "# Define the map document and the layer from which to copy the definition query\n",
    "mxd = arcpy.mapping.MapDocument(\"CURRENT\")\n",
    "source_layer_name = \"YourSourceLayerName\"  # Replace with your source layer name\n",
    "\n",
    "# Get the source layer\n",
    "source_layer = arcpy.mapping.ListLayers(mxd, source_layer_name)[0]\n",
    "\n",
    "# Get the definition query from the source layer\n",
    "definition_query = source_layer.definitionQuery\n",
    "\n",
    "# Loop through all layers in the map document\n",
    "for layer in arcpy.mapping.ListLayers(mxd):\n",
    "    if layer.name != source_layer_name:  # Skip the source layer\n",
    "        layer.definitionQuery = definition_query  # Apply the definition query\n",
    "\n",
    "# Save the changes\n",
    "mxd.save()\n"
   ]
  }
 ],
 "metadata": {
  "kernelspec": {
   "display_name": "Python 3",
   "language": "python",
   "name": "python3"
  },
  "language_info": {
   "codemirror_mode": {
    "name": "ipython",
    "version": 3
   },
   "file_extension": ".py",
   "mimetype": "text/x-python",
   "name": "python",
   "nbconvert_exporter": "python",
   "pygments_lexer": "ipython3",
   "version": "3.7.9"
  }
 },
 "nbformat": 4,
 "nbformat_minor": 4
}
