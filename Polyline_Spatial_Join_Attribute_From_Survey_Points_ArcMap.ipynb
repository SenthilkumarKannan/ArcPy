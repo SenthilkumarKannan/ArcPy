{
 "cells": [
  {
   "cell_type": "code",
   "execution_count": null,
   "metadata": {},
   "outputs": [],
   "source": [
    "import arcpy\n",
    "import os\n",
    "\n",
    "def spatial_join_by_matching(polylines_gdb, points_gdb, output_gdb):\n",
    "    \"\"\"\n",
    "    Perform spatial join for matching polyline and point feature classes from two geodatabases.\n",
    "\n",
    "    Parameters:\n",
    "    polylines_gdb (str): Path to the geodatabase containing polylines.\n",
    "    points_gdb (str): Path to the geodatabase containing points.\n",
    "    output_gdb (str): Path to the output geodatabase.\n",
    "    \"\"\"\n",
    "    # Ensure the output geodatabase exists\n",
    "    if not arcpy.Exists(output_gdb):\n",
    "        arcpy.CreateFileGDB_management(os.path.dirname(output_gdb), os.path.basename(output_gdb))\n",
    "        arcpy.AddMessage(\"Created output geodatabase at {}\".format(output_gdb))\n",
    "\n",
    "    # Get a list of feature classes in the polyline geodatabase\n",
    "    arcpy.env.workspace = polylines_gdb\n",
    "    polyline_feature_classes = arcpy.ListFeatureClasses()\n",
    "\n",
    "    # Loop through each polyline feature class\n",
    "    for polyline_fc in polyline_feature_classes:\n",
    "        # Check if a corresponding point feature class exists in the points geodatabase\n",
    "        points_fc = os.path.join(points_gdb, polyline_fc)  # Matching point feature class name\n",
    "        if arcpy.Exists(points_fc):\n",
    "            arcpy.AddMessage(\"Processing: {} with {}\".format(polyline_fc, polyline_fc))\n",
    "\n",
    "            # Define output feature class path\n",
    "            output_fc = os.path.join(output_gdb, \"SpatialJoin_{}\".format(polyline_fc))\n",
    "\n",
    "            # Perform spatial join\n",
    "            arcpy.SpatialJoin_analysis(\n",
    "                target_features=os.path.join(polylines_gdb, polyline_fc),\n",
    "                join_features=points_fc,\n",
    "                out_feature_class=output_fc,\n",
    "                join_type=\"KEEP_COMMON\",  # Options: KEEP_COMMON, KEEP_ALL\n",
    "                match_option=\"INTERSECT\"  # Match criteria (INTERSECT, WITHIN, CONTAINS, etc.)\n",
    "            )\n",
    "            arcpy.AddMessage(\"Spatial join completed: {}\".format(output_fc))\n",
    "        else:\n",
    "            arcpy.AddMessage(\"Matching point feature class not found for: {}\".format(polyline_fc))\n",
    "\n",
    "    arcpy.AddMessage(\"Processing complete for all feature classes.\")\n",
    "\n",
    "# Main block to set up the geoprocessing tool\n",
    "if __name__ == \"__main__\":\n",
    "    # Define input parameters\n",
    "    polylines_gdb = arcpy.GetParameterAsText(0)\n",
    "    points_gdb = arcpy.GetParameterAsText(1)\n",
    "    output_gdb = arcpy.GetParameterAsText(2)\n",
    "\n",
    "    # Call the spatial join function\n",
    "    spatial_join_by_matching(polylines_gdb, points_gdb, output_gdb)"
   ]
  }
 ],
 "metadata": {
  "kernelspec": {
   "display_name": "Python 3",
   "language": "python",
   "name": "python3"
  },
  "language_info": {
   "codemirror_mode": {
    "name": "ipython",
    "version": 3
   },
   "file_extension": ".py",
   "mimetype": "text/x-python",
   "name": "python",
   "nbconvert_exporter": "python",
   "pygments_lexer": "ipython3",
   "version": "3.7.9"
  }
 },
 "nbformat": 4,
 "nbformat_minor": 4
}
