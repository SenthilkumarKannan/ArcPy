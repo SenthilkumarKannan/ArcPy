{
 "cells": [
  {
   "cell_type": "code",
   "execution_count": null,
   "id": "5f97676a-eb6f-4816-81a2-f861c17ab474",
   "metadata": {},
   "outputs": [],
   "source": [
    "import arcpy\n",
    "import os\n",
    "\n",
    "# Input CAD file (DWG/DXF)\n",
    "cad_file = r\"C:\\Users\\skannan\\Desktop\\cadfile.dwg\"\n",
    "\n",
    "# Output Geodatabase\n",
    "gdb_path = r\"C:\\Users\\skannan\\Desktop\\Extracted_gdb.gdb\"\n",
    "\n",
    "# Set the workspace to the CAD file location\n",
    "arcpy.env.workspace = cad_file\n",
    "\n",
    "# List the feature classes from the CAD file\n",
    "feature_classes = arcpy.ListFeatureClasses()\n",
    "\n",
    "# Check if any feature classes exist\n",
    "if not feature_classes:\n",
    "    print(\"No feature classes found in the CAD file.\")\n",
    "else:\n",
    "    print(f\"Found {len(feature_classes)} feature classes.\")\n",
    "\n",
    "    # Create the Geodatabase if it doesn't exist\n",
    "    if not arcpy.Exists(gdb_path):\n",
    "        arcpy.CreateFileGDB_management(os.path.dirname(gdb_path), os.path.basename(gdb_path))\n",
    "        print(f\"Created Geodatabase at {gdb_path}\")\n",
    "\n",
    "    # Loop through each feature class and convert to the Geodatabase\n",
    "    for fc in feature_classes:\n",
    "        # Define the output path for the feature class in the GDB\n",
    "        output_fc = os.path.join(gdb_path, fc)\n",
    "        \n",
    "        # Check if the feature class already exists\n",
    "        if not arcpy.Exists(output_fc):\n",
    "            # Convert CAD feature class to geodatabase feature class\n",
    "            arcpy.FeatureClassToGeodatabase_conversion(fc, gdb_path)\n",
    "            print(f\"Converted {fc} to {output_fc}\")\n",
    "        else:\n",
    "            print(f\"Feature class {output_fc} already exists.\")\n",
    "\n",
    "print(\"CAD to Geodatabase conversion completed.\")"
   ]
  }
 ],
 "metadata": {
  "kernelspec": {
   "display_name": "Python 3 (ipykernel)",
   "language": "python",
   "name": "python3"
  },
  "language_info": {
   "codemirror_mode": {
    "name": "ipython",
    "version": 3
   },
   "file_extension": ".py",
   "mimetype": "text/x-python",
   "name": "python",
   "nbconvert_exporter": "python",
   "pygments_lexer": "ipython3",
   "version": "3.11.10"
  }
 },
 "nbformat": 4,
 "nbformat_minor": 5
}
